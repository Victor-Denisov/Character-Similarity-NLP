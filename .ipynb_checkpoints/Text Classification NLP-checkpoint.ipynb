{
 "cells": [
  {
   "cell_type": "markdown",
   "id": "cbb055cb",
   "metadata": {},
   "source": [
    "### Natural Language Processing - Text Classification using Seinfeld Transcript Data"
   ]
  },
  {
   "cell_type": "markdown",
   "id": "b4fb047e",
   "metadata": {},
   "source": [
    "##### 0 - Setting up required imports, importing data, and cleaning data."
   ]
  },
  {
   "cell_type": "code",
   "execution_count": 1,
   "id": "803c7c66",
   "metadata": {},
   "outputs": [],
   "source": [
    "## for data\n",
    "import pandas as pd\n",
    "import numpy as np\n",
    "\n",
    "## for plotting\n",
    "import matplotlib.pyplot as plt\n",
    "import seaborn as sns\n",
    "\n",
    "## for processing\n",
    "import re\n",
    "import nltk\n",
    "\n",
    "## for bag-of-words\n",
    "from sklearn import feature_extraction, model_selection, naive_bayes, pipeline, manifold, preprocessing\n",
    "\n",
    "## for explainer\n",
    "from lime import lime_text\n",
    "\n",
    "## for word embedding (Word2Vec)\n",
    "import gensim\n",
    "import gensim.downloader as gensim_api\n",
    "\n",
    "## for deep learning\n",
    "from tensorflow.keras import models, layers, preprocessing as kprocessing\n",
    "from tensorflow.keras import backend as K\n",
    "\n",
    "## for bert language model\n",
    "import transformers"
   ]
  },
  {
   "cell_type": "code",
   "execution_count": 5,
   "id": "323ffa14",
   "metadata": {},
   "outputs": [],
   "source": [
    "# read the generated transcripts CSV from Data Scraper ipynb\n",
    "seinfeldDF = pd.read_csv('seinfeld_transcripts.csv')"
   ]
  },
  {
   "cell_type": "code",
   "execution_count": 67,
   "id": "95d73c6a",
   "metadata": {
    "scrolled": false
   },
   "outputs": [
    {
     "name": "stdout",
     "output_type": "stream",
     "text": [
      "        Character                                     Character Text\n",
      "21738       jerry   you know, why we're here? [he means: here in ...\n",
      "21740      [scene   pete's luncheonette. jerry and george are sit...\n",
      "21741       jerry   seems to me, that button is in the worst poss...\n",
      "21742      george               are you through? [kind of irritated]\n",
      "21743       jerry             you do of course try on, when you buy?\n",
      "...           ...                                                ...\n",
      "86921       jerry    grand theft auto - don't steal any of my jokes.\n",
      "86922  prisoner 3                      you suck - i'm gonna cut you.\n",
      "86923       jerry   hey, i don't come down to where you work, and...\n",
      "86924       guard   alright, seinfeld, that's it. let's go. come on.\n",
      "86925       jerry   alright, hey, you've been great! see you in t...\n",
      "\n",
      "[36582 rows x 2 columns]\n"
     ]
    }
   ],
   "source": [
    "# Some Data Cleaning\n",
    "# transpose the data frame\n",
    "seinfeldDFT = seinfeldDF.T\n",
    "# ravel the data frame aka put all columns into one centralized column, drop na's, lower case\n",
    "combineddf = pd.Series(seinfeldDFT.values.ravel('F')).dropna()\n",
    "combineddf = combineddf.to_frame(name='Character')\n",
    "combineddf['Character'] = combineddf['Character'].str.lower()\n",
    "\n",
    "# separate the character from the text\n",
    "combineddf[['Character','Character Text']] = combineddf[\"Character\"].str.split(\":\", 1, expand=True)\n",
    "combineddf = combineddf.dropna()\n",
    "print(combineddf)"
   ]
  },
  {
   "cell_type": "markdown",
   "id": "f2bc3c5b",
   "metadata": {},
   "source": [
    "##### 1 - Text Analysis"
   ]
  },
  {
   "cell_type": "code",
   "execution_count": 69,
   "id": "0eb21fa1",
   "metadata": {},
   "outputs": [
    {
     "data": {
      "text/plain": [
       "jerry             9723\n",
       "george            6494\n",
       "elaine            5267\n",
       "kramer            4335\n",
       "newman             459\n",
       "                  ... \n",
       "it...?               1\n",
       "owns                 1\n",
       "wallet)              1\n",
       "(interrupting)       1\n",
       "tells                1\n",
       "Length: 2386, dtype: int64"
      ]
     },
     "execution_count": 69,
     "metadata": {},
     "output_type": "execute_result"
    }
   ],
   "source": [
    "# lets take a look at the distribution of characters and their lines\n",
    "combineddf.Character.str.split(expand=True).stack().value_counts()"
   ]
  },
  {
   "cell_type": "markdown",
   "id": "bd9dd1fe",
   "metadata": {},
   "source": [
    "Unsurprisingly, Jerry has the most lines followed by George, Elaine, and Kramer. We will use these 4 characters as our primary predictor targets."
   ]
  }
 ],
 "metadata": {
  "kernelspec": {
   "display_name": "Python 3",
   "language": "python",
   "name": "python3"
  },
  "language_info": {
   "codemirror_mode": {
    "name": "ipython",
    "version": 3
   },
   "file_extension": ".py",
   "mimetype": "text/x-python",
   "name": "python",
   "nbconvert_exporter": "python",
   "pygments_lexer": "ipython3",
   "version": "3.8.8"
  }
 },
 "nbformat": 4,
 "nbformat_minor": 5
}
