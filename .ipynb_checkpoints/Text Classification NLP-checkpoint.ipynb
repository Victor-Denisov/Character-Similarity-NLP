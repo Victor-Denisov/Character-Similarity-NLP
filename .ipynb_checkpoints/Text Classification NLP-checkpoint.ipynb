{
 "cells": [
  {
   "cell_type": "markdown",
   "id": "cbb055cb",
   "metadata": {},
   "source": [
    "### Natural Language Processing - Text Classification using Seinfeld Transcript Data"
   ]
  },
  {
   "cell_type": "markdown",
   "id": "b4fb047e",
   "metadata": {},
   "source": [
    "##### 0 - Setting up required imports, importing data, and cleaning data."
   ]
  },
  {
   "cell_type": "code",
   "execution_count": 1,
   "id": "803c7c66",
   "metadata": {},
   "outputs": [],
   "source": [
    "## for data\n",
    "import pandas as pd\n",
    "import numpy as np\n",
    "from itertools import chain\n",
    "\n",
    "## for plotting\n",
    "import matplotlib.pyplot as plt\n",
    "import seaborn as sns\n",
    "\n",
    "## for processing\n",
    "import re\n",
    "import nltk\n",
    "import wordcloud\n",
    "\n",
    "## for bag-of-words\n",
    "from sklearn import feature_extraction, model_selection, naive_bayes, pipeline, manifold, preprocessing, metrics, feature_selection\n",
    "\n",
    "## for explainer\n",
    "from lime import lime_text\n",
    "\n",
    "## for word embedding (Word2Vec)\n",
    "import gensim\n",
    "from gensim.models import Word2Vec\n",
    "\n",
    "## for deep learning\n",
    "from tensorflow.keras import models, layers, preprocessing as kprocessing\n",
    "from tensorflow.keras import backend as K\n",
    "\n",
    "## for bert language model\n",
    "import transformers"
   ]
  },
  {
   "cell_type": "code",
   "execution_count": 2,
   "id": "323ffa14",
   "metadata": {},
   "outputs": [],
   "source": [
    "# read the generated transcripts CSV from Data Scraper ipynb\n",
    "seinfeldDF = pd.read_csv('seinfeld_transcripts.csv')"
   ]
  },
  {
   "cell_type": "code",
   "execution_count": 3,
   "id": "95d73c6a",
   "metadata": {
    "scrolled": false
   },
   "outputs": [],
   "source": [
    "# Some Data Cleaning\n",
    "# transpose the data frame\n",
    "seinfeldDFT = seinfeldDF.T\n",
    "# ravel the data frame aka put all columns into one centralized column, drop na's, lower case\n",
    "cleanedDF = pd.Series(seinfeldDFT.values.ravel('F')).dropna()\n",
    "cleanedDF = cleanedDF.to_frame(name='Character')\n",
    "cleanedDF['Character'] = cleanedDF['Character'].str.lower()\n",
    "\n",
    "# separate the character from the text and keep the 4 most popular\n",
    "cleanedDF[['Character','Character Text']] = cleanedDF[\"Character\"].str.split(\":\", 1, expand=True)\n",
    "cleanedDF = cleanedDF.dropna()"
   ]
  },
  {
   "cell_type": "markdown",
   "id": "f2bc3c5b",
   "metadata": {},
   "source": [
    "##### 1 - Text Analysis and Cleaning"
   ]
  },
  {
   "cell_type": "code",
   "execution_count": 4,
   "id": "0eb21fa1",
   "metadata": {},
   "outputs": [
    {
     "data": {
      "text/plain": [
       "jerry          9723\n",
       "george         6494\n",
       "elaine         5267\n",
       "kramer         4335\n",
       "newman          459\n",
       "               ... \n",
       "#135              1\n",
       "(two              1\n",
       "(heretofore       1\n",
       "november          1\n",
       "talk              1\n",
       "Length: 2386, dtype: int64"
      ]
     },
     "execution_count": 4,
     "metadata": {},
     "output_type": "execute_result"
    }
   ],
   "source": [
    "# lets take a look at the distribution of characters and their lines\n",
    "cleanedDF.Character.str.split(expand=True).stack().value_counts()"
   ]
  },
  {
   "cell_type": "markdown",
   "id": "bd9dd1fe",
   "metadata": {},
   "source": [
    "Unsurprisingly, Jerry has the most lines followed by George, Elaine, and Kramer. We will use these 4 characters as our primary predictor targets.\n",
    "Next I clean the data to only include these characters and remove the text in parenthesis (not spoken by the character)"
   ]
  },
  {
   "cell_type": "code",
   "execution_count": 5,
   "id": "e83e76ae",
   "metadata": {},
   "outputs": [
    {
     "name": "stderr",
     "output_type": "stream",
     "text": [
      "<ipython-input-5-b8cb78b855a7>:8: FutureWarning: The default value of regex will change from True to False in a future version.\n",
      "  cleanedDF['Character Text'] = cleanedDF['Character Text'].str.replace(r\"\\[.*\\]\",\"\")\n",
      "<ipython-input-5-b8cb78b855a7>:9: FutureWarning: The default value of regex will change from True to False in a future version.\n",
      "  cleanedDF['Character Text'] = cleanedDF['Character Text'].str.replace(r\"\\(.*\\)\",\"\")\n"
     ]
    },
    {
     "data": {
      "text/html": [
       "<div>\n",
       "<style scoped>\n",
       "    .dataframe tbody tr th:only-of-type {\n",
       "        vertical-align: middle;\n",
       "    }\n",
       "\n",
       "    .dataframe tbody tr th {\n",
       "        vertical-align: top;\n",
       "    }\n",
       "\n",
       "    .dataframe thead th {\n",
       "        text-align: right;\n",
       "    }\n",
       "</style>\n",
       "<table border=\"1\" class=\"dataframe\">\n",
       "  <thead>\n",
       "    <tr style=\"text-align: right;\">\n",
       "      <th></th>\n",
       "      <th>Character</th>\n",
       "      <th>Character Text</th>\n",
       "    </tr>\n",
       "  </thead>\n",
       "  <tbody>\n",
       "    <tr>\n",
       "      <th>62266</th>\n",
       "      <td>george</td>\n",
       "      <td>$2? but everyone in front of me got free bread.</td>\n",
       "    </tr>\n",
       "    <tr>\n",
       "      <th>67768</th>\n",
       "      <td>elaine</td>\n",
       "      <td>no, you better gimme back that bike. newman,</td>\n",
       "    </tr>\n",
       "    <tr>\n",
       "      <th>36101</th>\n",
       "      <td>george</td>\n",
       "      <td>no-no-no, kramer. kramer! kramer! you *cannot...</td>\n",
       "    </tr>\n",
       "    <tr>\n",
       "      <th>78715</th>\n",
       "      <td>jerry</td>\n",
       "      <td>technically, you're sauted. so, what are you ...</td>\n",
       "    </tr>\n",
       "    <tr>\n",
       "      <th>44034</th>\n",
       "      <td>kramer</td>\n",
       "      <td>you're *not*!!!</td>\n",
       "    </tr>\n",
       "  </tbody>\n",
       "</table>\n",
       "</div>"
      ],
      "text/plain": [
       "      Character                                     Character Text\n",
       "62266    george    $2? but everyone in front of me got free bread.\n",
       "67768    elaine       no, you better gimme back that bike. newman,\n",
       "36101    george   no-no-no, kramer. kramer! kramer! you *cannot...\n",
       "78715     jerry   technically, you're sauted. so, what are you ...\n",
       "44034    kramer                                    you're *not*!!!"
      ]
     },
     "execution_count": 5,
     "metadata": {},
     "output_type": "execute_result"
    }
   ],
   "source": [
    "# clean character col for jerry, george, elaine, and kramer\n",
    "cleanedDF = cleanedDF[(cleanedDF['Character'] == 'jerry') \n",
    "                      | (cleanedDF['Character'] == 'george') \n",
    "                      | (cleanedDF['Character'] == 'elaine') \n",
    "                      | (cleanedDF['Character'] == 'kramer')]\n",
    "\n",
    "# clean character text from brackets, characters do not say these lines\n",
    "cleanedDF['Character Text'] = cleanedDF['Character Text'].str.replace(r\"\\[.*\\]\",\"\")\n",
    "cleanedDF['Character Text'] = cleanedDF['Character Text'].str.replace(r\"\\(.*\\)\",\"\")\n",
    "cleanedDF.sample(5)"
   ]
  },
  {
   "cell_type": "code",
   "execution_count": 6,
   "id": "f654459e",
   "metadata": {},
   "outputs": [
    {
     "name": "stdout",
     "output_type": "stream",
     "text": [
      "<class 'pandas.core.frame.DataFrame'>\n",
      "Int64Index: 24777 entries, 21738 to 86925\n",
      "Data columns (total 2 columns):\n",
      " #   Column          Non-Null Count  Dtype \n",
      "---  ------          --------------  ----- \n",
      " 0   Character       24777 non-null  object\n",
      " 1   Character Text  24777 non-null  object\n",
      "dtypes: object(2)\n",
      "memory usage: 580.7+ KB\n"
     ]
    }
   ],
   "source": [
    "cleanedDF.info()"
   ]
  },
  {
   "cell_type": "code",
   "execution_count": 7,
   "id": "dd3b3b14",
   "metadata": {},
   "outputs": [
    {
     "data": {
      "text/plain": [
       "<AxesSubplot:>"
      ]
     },
     "execution_count": 7,
     "metadata": {},
     "output_type": "execute_result"
    },
    {
     "data": {
      "image/png": "[encoded data removed]",
      "text/plain": [
       "<Figure size 432x288 with 1 Axes>"
      ]
     },
     "metadata": {
      "needs_background": "light"
     },
     "output_type": "display_data"
    }
   ],
   "source": [
    "cleanedDF.Character.value_counts().plot(kind='bar')"
   ]
  },
  {
   "cell_type": "code",
   "execution_count": 8,
   "id": "ef6cda2d",
   "metadata": {},
   "outputs": [
    {
     "data": {
      "text/plain": [
       "jerry     9358\n",
       "george    6263\n",
       "elaine    4989\n",
       "kramer    4167\n",
       "Name: Character, dtype: int64"
      ]
     },
     "execution_count": 8,
     "metadata": {},
     "output_type": "execute_result"
    }
   ],
   "source": [
    "cleanedDF.Character.value_counts()"
   ]
  },
  {
   "cell_type": "markdown",
   "id": "a2e996c1",
   "metadata": {},
   "source": [
    "##### 2 - Pre-processing\n",
    "In this step, the character text col will be modified by tokenization, removal of stop words, stemming, and lemmatization. source: https://towardsdatascience.com/text-classification-with-nlp-tf-idf-vs-word2vec-vs-bert-41ff868d1794"
   ]
  },
  {
   "cell_type": "code",
   "execution_count": 9,
   "id": "636d3055",
   "metadata": {},
   "outputs": [],
   "source": [
    "'''\n",
    "Preprocess a string.\n",
    ":parameter\n",
    "    :param text: string - name of column containing text\n",
    "    :param lst_stopwords: list - list of stopwords to remove\n",
    "    :param flg_stemm: bool - whether stemming is to be applied\n",
    "    :param flg_lemm: bool - whether lemmitisation is to be applied\n",
    ":return\n",
    "    cleaned text\n",
    "'''\n",
    "def utils_preprocess_text(text, flg_stemm=False, flg_lemm=True, lst_stopwords=None):\n",
    "    ## clean (convert to lowercase and remove punctuations and characters and then strip)\n",
    "    text = re.sub(r'[^\\w\\s]', '', str(text).lower().strip())\n",
    "            \n",
    "    ## Tokenize (convert from string to list)\n",
    "    lst_text = text.split()\n",
    "    ## remove Stopwords\n",
    "    if lst_stopwords is not None:\n",
    "        lst_text = [word for word in lst_text if word not in \n",
    "                    lst_stopwords]\n",
    "                \n",
    "    ## Stemming (remove -ing, -ly, ...)\n",
    "    if flg_stemm == True:\n",
    "        ps = nltk.stem.porter.PorterStemmer()\n",
    "        lst_text = [ps.stem(word) for word in lst_text]\n",
    "                \n",
    "    ## Lemmatisation (convert the word into root word)\n",
    "    if flg_lemm == True:\n",
    "        lem = nltk.stem.wordnet.WordNetLemmatizer()\n",
    "        lst_text = [lem.lemmatize(word) for word in lst_text]\n",
    "            \n",
    "    ## back to string from list\n",
    "    text = \" \".join(lst_text)\n",
    "    return text\n"
   ]
  },
  {
   "cell_type": "code",
   "execution_count": 10,
   "id": "99f9a5d7",
   "metadata": {},
   "outputs": [
    {
     "data": {
      "text/html": [
       "<div>\n",
       "<style scoped>\n",
       "    .dataframe tbody tr th:only-of-type {\n",
       "        vertical-align: middle;\n",
       "    }\n",
       "\n",
       "    .dataframe tbody tr th {\n",
       "        vertical-align: top;\n",
       "    }\n",
       "\n",
       "    .dataframe thead th {\n",
       "        text-align: right;\n",
       "    }\n",
       "</style>\n",
       "<table border=\"1\" class=\"dataframe\">\n",
       "  <thead>\n",
       "    <tr style=\"text-align: right;\">\n",
       "      <th></th>\n",
       "      <th>Character</th>\n",
       "      <th>Character Text</th>\n",
       "      <th>Character Text_clean</th>\n",
       "    </tr>\n",
       "  </thead>\n",
       "  <tbody>\n",
       "    <tr>\n",
       "      <th>21738</th>\n",
       "      <td>jerry</td>\n",
       "      <td>you know, why we're here?  \"he didn't tell me...</td>\n",
       "      <td>know didnt tell going must gone wanna go get r...</td>\n",
       "    </tr>\n",
       "    <tr>\n",
       "      <th>21741</th>\n",
       "      <td>jerry</td>\n",
       "      <td>seems to me, that button is in the worst poss...</td>\n",
       "      <td>seems button worst possible spot second button...</td>\n",
       "    </tr>\n",
       "    <tr>\n",
       "      <th>21742</th>\n",
       "      <td>george</td>\n",
       "      <td>are you through?</td>\n",
       "      <td></td>\n",
       "    </tr>\n",
       "    <tr>\n",
       "      <th>21743</th>\n",
       "      <td>jerry</td>\n",
       "      <td>you do of course try on, when you buy?</td>\n",
       "      <td>course try buy</td>\n",
       "    </tr>\n",
       "    <tr>\n",
       "      <th>21744</th>\n",
       "      <td>george</td>\n",
       "      <td>yes, it was purple, i liked it, i don't actua...</td>\n",
       "      <td>yes purple liked dont actually recall consider...</td>\n",
       "    </tr>\n",
       "  </tbody>\n",
       "</table>\n",
       "</div>"
      ],
      "text/plain": [
       "      Character                                     Character Text  \\\n",
       "21738     jerry   you know, why we're here?  \"he didn't tell me...   \n",
       "21741     jerry   seems to me, that button is in the worst poss...   \n",
       "21742    george                                  are you through?    \n",
       "21743     jerry             you do of course try on, when you buy?   \n",
       "21744    george   yes, it was purple, i liked it, i don't actua...   \n",
       "\n",
       "                                    Character Text_clean  \n",
       "21738  know didnt tell going must gone wanna go get r...  \n",
       "21741  seems button worst possible spot second button...  \n",
       "21742                                                     \n",
       "21743                                     course try buy  \n",
       "21744  yes purple liked dont actually recall consider...  "
      ]
     },
     "execution_count": 10,
     "metadata": {},
     "output_type": "execute_result"
    }
   ],
   "source": [
    "# download NLTK data, un-comment this out if you don't have it\n",
    "# nltk.download('wordnet')\n",
    "# nltk.download('stopwords')\n",
    "# obtain stopwords\n",
    "lst_stopwords = nltk.corpus.stopwords.words(\"english\")\n",
    "cleanedDF[\"Character Text_clean\"] = cleanedDF[\"Character Text\"].apply(lambda x: \n",
    "          utils_preprocess_text(x, flg_stemm=False, flg_lemm=True, \n",
    "          lst_stopwords=lst_stopwords))\n",
    "cleanedDF.head()"
   ]
  },
  {
   "cell_type": "code",
   "execution_count": 11,
   "id": "b57e66a2",
   "metadata": {},
   "outputs": [],
   "source": [
    "## split dataset\n",
    "dtf_train, dtf_test = model_selection.train_test_split(cleanedDF, test_size=0.3)\n",
    "## get target\n",
    "y_train = dtf_train[\"Character\"].values\n",
    "y_test = dtf_test[\"Character\"].values"
   ]
  },
  {
   "cell_type": "markdown",
   "id": "2fc31b7d",
   "metadata": {},
   "source": [
    "##### 3 - Baseline Model"
   ]
  },
  {
   "cell_type": "markdown",
   "id": "99c854c6",
   "metadata": {},
   "source": [
    "Feature Engineering: use tf-idf vectorizer to extract info from the data"
   ]
  },
  {
   "cell_type": "code",
   "execution_count": 12,
   "id": "b52a0ae5",
   "metadata": {},
   "outputs": [
    {
     "data": {
      "text/plain": [
       "Text(0.5, 1.0, 'Sparse Matrix Sample')"
      ]
     },
     "execution_count": 12,
     "metadata": {},
     "output_type": "execute_result"
    },
    {
     "data": {
      "image/png": "[encoded data removed]",
      "text/plain": [
       "<Figure size 432x288 with 1 Axes>"
      ]
     },
     "metadata": {
      "needs_background": "light"
     },
     "output_type": "display_data"
    }
   ],
   "source": [
    "## Tf-Idf (advanced variant of BoW)\n",
    "vectorizer = feature_extraction.text.TfidfVectorizer(max_features=10000, ngram_range=(1,2))\n",
    "\n",
    "corpus = dtf_train[\"Character Text_clean\"]\n",
    "vectorizer.fit(corpus)\n",
    "X_train = vectorizer.transform(corpus)\n",
    "dic_vocabulary = vectorizer.vocabulary_\n",
    "\n",
    "sns.heatmap(X_train.todense()[:,np.random.randint(0,X_train.shape[1],100)]==0, vmin=0, vmax=1, \n",
    "            cbar=False).set_title('Sparse Matrix Sample')"
   ]
  },
  {
   "cell_type": "markdown",
   "id": "7251a5d5",
   "metadata": {},
   "source": [
    "The matrix is fairly sparse, we can reduce dimensionality with feature selection.\n",
    "We can treat each category as binary and do a Chi-Square test to determine whether a feature and the (binary) target are independent"
   ]
  },
  {
   "cell_type": "code",
   "execution_count": 13,
   "id": "048f77db",
   "metadata": {},
   "outputs": [],
   "source": [
    "y = dtf_train[\"Character\"]\n",
    "X_names = vectorizer.get_feature_names()\n",
    "p_value_limit = 0.95\n",
    "dtf_features = pd.DataFrame()\n",
    "for cat in np.unique(y):\n",
    "    chi2, p = feature_selection.chi2(X_train, y==cat)\n",
    "    dtf_features = dtf_features.append(pd.DataFrame(\n",
    "                   {\"feature\":X_names, \"score\":1-p, \"y\":cat}))\n",
    "    dtf_features = dtf_features.sort_values([\"y\",\"score\"], \n",
    "                    ascending=[True,False])\n",
    "    dtf_features = dtf_features[dtf_features[\"score\"]>p_value_limit]\n",
    "X_names = dtf_features[\"feature\"].unique().tolist()"
   ]
  },
  {
   "cell_type": "code",
   "execution_count": 14,
   "id": "f21b36ab",
   "metadata": {},
   "outputs": [
    {
     "name": "stdout",
     "output_type": "stream",
     "text": [
      "# elaine:\n",
      "  . selected features: 276\n",
      "  . top features: um,bike,lippman,mr pitt,mr peterman,pitt,peterman,hi,mr,aaron\n",
      " \n",
      "# george:\n",
      "  . selected features: 208\n",
      "  . top features: moops,seven,yeah,bozo,sir,kimbrough,newman,course,mr morgan,architect\n",
      " \n",
      "# jerry:\n",
      "  . selected features: 65\n",
      "  . top features: jerry,uh,leo,hello newman,elaine,youre,mr,ha,dunno,town\n",
      " \n",
      "# kramer:\n",
      "  . selected features: 450\n",
      "  . top features: buddy,hey,yeah,hey buddy,hey jerry,jerry,oh hey,woah,mama,meat\n",
      " \n"
     ]
    }
   ],
   "source": [
    "for cat in np.unique(y):\n",
    "   print(\"# {}:\".format(cat))\n",
    "   print(\"  . selected features:\",\n",
    "         len(dtf_features[dtf_features[\"y\"]==cat]))\n",
    "   print(\"  . top features:\", \",\".join(dtf_features[dtf_features[\"y\"]==cat][\"feature\"].values[:10]))\n",
    "   print(\" \")"
   ]
  },
  {
   "cell_type": "code",
   "execution_count": 15,
   "id": "ca6c07e3",
   "metadata": {},
   "outputs": [
    {
     "data": {
      "text/plain": [
       "Text(0.5, 1.0, 'Sparse Matrix Sample')"
      ]
     },
     "execution_count": 15,
     "metadata": {},
     "output_type": "execute_result"
    },
    {
     "data": {
      "image/png": "[encoded data removed]",
      "text/plain": [
       "<Figure size 432x288 with 1 Axes>"
      ]
     },
     "metadata": {
      "needs_background": "light"
     },
     "output_type": "display_data"
    }
   ],
   "source": [
    "vectorizer = feature_extraction.text.TfidfVectorizer(vocabulary=X_names)\n",
    "vectorizer.fit(corpus)\n",
    "X_train = vectorizer.transform(corpus)\n",
    "dic_vocabulary = vectorizer.vocabulary_\n",
    "sns.heatmap(X_train.todense()[:,np.random.randint(0,X_train.shape[1],100)]==0, vmin=0, vmax=1, cbar=False).set_title('Sparse Matrix Sample')\n"
   ]
  },
  {
   "cell_type": "markdown",
   "id": "9ebfeb28",
   "metadata": {},
   "source": [
    "The martix is now a little less sparse"
   ]
  },
  {
   "cell_type": "markdown",
   "id": "f8694e63",
   "metadata": {},
   "source": [
    "##### Naive Bayes Model"
   ]
  },
  {
   "cell_type": "code",
   "execution_count": 16,
   "id": "959760a9",
   "metadata": {},
   "outputs": [],
   "source": [
    "classifier = naive_bayes.MultinomialNB()"
   ]
  },
  {
   "cell_type": "code",
   "execution_count": 17,
   "id": "40ff47cb",
   "metadata": {},
   "outputs": [],
   "source": [
    "## pipeline\n",
    "model = pipeline.Pipeline([(\"vectorizer\", vectorizer),  \n",
    "                           (\"classifier\", classifier)])\n",
    "## train classifier\n",
    "model[\"classifier\"].fit(X_train, y_train)\n",
    "## test\n",
    "X_test = dtf_test[\"Character Text_clean\"].values\n",
    "predicted = model.predict(X_test)\n",
    "predicted_prob = model.predict_proba(X_test)"
   ]
  },
  {
   "cell_type": "code",
   "execution_count": 18,
   "id": "516fbdf1",
   "metadata": {},
   "outputs": [
    {
     "name": "stdout",
     "output_type": "stream",
     "text": [
      "Accuracy: 0.41\n",
      "Auc: 0.59\n",
      "Detail:\n",
      "              precision    recall  f1-score   support\n",
      "\n",
      "      elaine       0.42      0.08      0.14      1489\n",
      "      george       0.41      0.12      0.18      1877\n",
      "       jerry       0.40      0.91      0.56      2826\n",
      "      kramer       0.50      0.09      0.16      1242\n",
      "\n",
      "    accuracy                           0.41      7434\n",
      "   macro avg       0.43      0.30      0.26      7434\n",
      "weighted avg       0.42      0.41      0.31      7434\n",
      "\n"
     ]
    },
    {
     "data": {
      "text/plain": [
       "(array([0.5, 1.5, 2.5, 3.5]),\n",
       " [Text(0, 0.5, 'elaine'),\n",
       "  Text(0, 1.5, 'george'),\n",
       "  Text(0, 2.5, 'jerry'),\n",
       "  Text(0, 3.5, 'kramer')])"
      ]
     },
     "execution_count": 18,
     "metadata": {},
     "output_type": "execute_result"
    },
    {
     "data": {
      "image/png": "[encoded data removed]",
      "text/plain": [
       "<Figure size 432x288 with 1 Axes>"
      ]
     },
     "metadata": {
      "needs_background": "light"
     },
     "output_type": "display_data"
    }
   ],
   "source": [
    "classes = np.unique(y_test)\n",
    "y_test_array = pd.get_dummies(y_test, drop_first=False).values\n",
    "    \n",
    "## Accuracy, Precision, Recall\n",
    "accuracy = metrics.accuracy_score(y_test, predicted)\n",
    "auc = metrics.roc_auc_score(y_test, predicted_prob, \n",
    "                            multi_class=\"ovr\")\n",
    "print(\"Accuracy:\",  round(accuracy,2))\n",
    "print(\"Auc:\", round(auc,2))\n",
    "print(\"Detail:\")\n",
    "print(metrics.classification_report(y_test, predicted))\n",
    "    \n",
    "## Plot confusion matrix\n",
    "cm = metrics.confusion_matrix(y_test, predicted)\n",
    "fig, ax = plt.subplots()\n",
    "sns.heatmap(cm, annot=True, fmt='d', ax=ax, cmap=plt.cm.Blues, \n",
    "            cbar=False)\n",
    "ax.set(xlabel=\"Pred\", ylabel=\"True\", xticklabels=classes, \n",
    "       yticklabels=classes, title=\"Confusion matrix\")\n",
    "plt.yticks(rotation=0)\n"
   ]
  },
  {
   "cell_type": "code",
   "execution_count": 19,
   "id": "d05c176b",
   "metadata": {},
   "outputs": [
    {
     "data": {
      "image/png": "[encoded data removed]",
      "text/plain": [
       "<Figure size 432x288 with 2 Axes>"
      ]
     },
     "metadata": {
      "needs_background": "light"
     },
     "output_type": "display_data"
    }
   ],
   "source": [
    "## Plot roc\n",
    "fig, ax = plt.subplots(nrows=1, ncols=2)\n",
    "\n",
    "for i in range(len(classes)):\n",
    "    fpr, tpr, thresholds = metrics.roc_curve(y_test_array[:,i],  \n",
    "                           predicted_prob[:,i])\n",
    "    ax[0].plot(fpr, tpr, lw=3, \n",
    "              label='{0} (area={1:0.2f})'.format(classes[i], \n",
    "                              metrics.auc(fpr, tpr))\n",
    "               )\n",
    "ax[0].plot([0,1], [0,1], color='navy', lw=3, linestyle='--')\n",
    "ax[0].set(xlim=[-0.05,1.0], ylim=[0.0,1.05], \n",
    "          xlabel='False Positive Rate', \n",
    "          ylabel=\"True Positive Rate (Recall)\", \n",
    "          title=\"Receiver operating characteristic\")\n",
    "ax[0].legend(loc=\"lower right\")\n",
    "ax[0].grid(True)\n",
    "\n",
    "## Plot precision-recall curve\n",
    "for i in range(len(classes)):\n",
    "    precision, recall, thresholds = metrics.precision_recall_curve(\n",
    "                 y_test_array[:,i], predicted_prob[:,i])\n",
    "    ax[1].plot(recall, precision, lw=3, \n",
    "               label='{0} (area={1:0.2f})'.format(classes[i], \n",
    "                                  metrics.auc(recall, precision))\n",
    "              )\n",
    "ax[1].set(xlim=[0.0,1.05], ylim=[0.0,1.05], xlabel='Recall', \n",
    "          ylabel=\"Precision\", title=\"Precision-Recall curve\")\n",
    "ax[1].legend(loc=\"best\")\n",
    "ax[1].grid(True)\n",
    "plt.show()"
   ]
  },
  {
   "cell_type": "markdown",
   "id": "b52e9cd3",
   "metadata": {},
   "source": [
    "The model is able to produce accuracy of 40%, which is higher than the baseline of randomly guessing (25%) and blindly guessing Jerry for all characters (37.8%)."
   ]
  },
  {
   "cell_type": "markdown",
   "id": "e84775da",
   "metadata": {},
   "source": [
    "##### BERT"
   ]
  },
  {
   "cell_type": "code",
   "execution_count": null,
   "id": "1f29325f",
   "metadata": {},
   "outputs": [],
   "source": []
  },
  {
   "cell_type": "code",
   "execution_count": null,
   "id": "0e272c05",
   "metadata": {},
   "outputs": [],
   "source": []
  },
  {
   "cell_type": "code",
   "execution_count": null,
   "id": "338a37e4",
   "metadata": {},
   "outputs": [],
   "source": []
  },
  {
   "cell_type": "code",
   "execution_count": null,
   "id": "a3f365b4",
   "metadata": {},
   "outputs": [],
   "source": []
  },
  {
   "cell_type": "code",
   "execution_count": null,
   "id": "90843138",
   "metadata": {},
   "outputs": [],
   "source": []
  }
 ],
 "metadata": {
  "kernelspec": {
   "display_name": "Python 3",
   "language": "python",
   "name": "python3"
  },
  "language_info": {
   "codemirror_mode": {
    "name": "ipython",
    "version": 3
   },
   "file_extension": ".py",
   "mimetype": "text/x-python",
   "name": "python",
   "nbconvert_exporter": "python",
   "pygments_lexer": "ipython3",
   "version": "3.8.8"
  }
 },
 "nbformat": 4,
 "nbformat_minor": 5
}
