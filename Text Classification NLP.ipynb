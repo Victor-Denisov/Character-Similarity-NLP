{
 "cells": [
  {
   "cell_type": "markdown",
   "id": "cbb055cb",
   "metadata": {},
   "source": [
    "### Natural Language Processing - Text Classification using Seinfeld Transcript Data"
   ]
  },
  {
   "cell_type": "markdown",
   "id": "b4fb047e",
   "metadata": {},
   "source": [
    "##### 0 - Setting up required imports, importing data, and cleaning data."
   ]
  },
  {
   "cell_type": "code",
   "execution_count": 1,
   "id": "803c7c66",
   "metadata": {},
   "outputs": [],
   "source": [
    "## for data\n",
    "import pandas as pd\n",
    "import numpy as np\n",
    "from itertools import chain\n",
    "import pickle\n",
    "\n",
    "## for plotting\n",
    "import matplotlib.pyplot as plt\n",
    "import seaborn as sns\n",
    "\n",
    "## for processing\n",
    "import re\n",
    "import nltk\n",
    "import wordcloud\n",
    "\n",
    "## for bag-of-words\n",
    "from sklearn import feature_extraction, model_selection, naive_bayes, pipeline, manifold, preprocessing, metrics, feature_selection\n",
    "from sklearn.model_selection import train_test_split\n",
    "from sklearn.metrics import confusion_matrix,f1_score,classification_report\n",
    "from sklearn.preprocessing import LabelEncoder\n",
    "\n",
    "## for explainer\n",
    "from lime import lime_text\n",
    "\n",
    "## for word embedding (Word2Vec)\n",
    "import gensim\n",
    "from gensim.models import Word2Vec\n",
    "\n",
    "## for deep learning\n",
    "from tensorflow import keras\n",
    "from tensorflow.keras import models, layers, preprocessing as kprocessing\n",
    "from tensorflow.keras import backend as K\n",
    "import tensorflow as tf\n",
    "from tensorflow.keras.layers import Dense,Dropout, Input\n",
    "from tensorflow.keras import regularizers\n",
    "\n",
    "## for bert language model\n",
    "import transformers\n",
    "from transformers import DistilBertTokenizer\n",
    "from transformers import TFDistilBertForSequenceClassification\n",
    "from transformers import BertTokenizer, TFBertModel, BertConfig,TFDistilBertModel,DistilBertTokenizer,DistilBertConfig"
   ]
  },
  {
   "cell_type": "code",
   "execution_count": 2,
   "id": "323ffa14",
   "metadata": {},
   "outputs": [],
   "source": [
    "# read the generated transcripts CSV from Data Scraper ipynb\n",
    "seinfeldDF = pd.read_csv('seinfeld_transcripts.csv')"
   ]
  },
  {
   "cell_type": "code",
   "execution_count": 3,
   "id": "95d73c6a",
   "metadata": {
    "scrolled": false
   },
   "outputs": [],
   "source": [
    "# Some Data Cleaning\n",
    "# transpose the data frame\n",
    "seinfeldDFT = seinfeldDF.T\n",
    "# ravel the data frame to put all columns into one centralized column, drop na's, lower case\n",
    "cleanedDF = pd.Series(seinfeldDFT.values.ravel('F')).dropna()\n",
    "cleanedDF = cleanedDF.to_frame(name='Character')\n",
    "cleanedDF['Character'] = cleanedDF['Character'].str.lower()\n",
    "\n",
    "# separate the character from the text and keep the 4 most popular\n",
    "cleanedDF[['Character','Character Text']] = cleanedDF[\"Character\"].str.split(\":\", 1, expand=True)\n",
    "cleanedDF = cleanedDF.dropna()"
   ]
  },
  {
   "cell_type": "markdown",
   "id": "f2bc3c5b",
   "metadata": {},
   "source": [
    "##### 1 - Text Analysis and Cleaning"
   ]
  },
  {
   "cell_type": "code",
   "execution_count": 4,
   "id": "0eb21fa1",
   "metadata": {},
   "outputs": [
    {
     "data": {
      "text/plain": [
       "jerry          9723\n",
       "george         6494\n",
       "elaine         5267\n",
       "kramer         4335\n",
       "newman          459\n",
       "               ... \n",
       "has               1\n",
       "roughed           1\n",
       "convincing)       1\n",
       "slices            1\n",
       "example           1\n",
       "Length: 2386, dtype: int64"
      ]
     },
     "execution_count": 4,
     "metadata": {},
     "output_type": "execute_result"
    }
   ],
   "source": [
    "# lets take a look at the distribution of characters and their lines\n",
    "cleanedDF.Character.str.split(expand=True).stack().value_counts()"
   ]
  },
  {
   "cell_type": "markdown",
   "id": "bd9dd1fe",
   "metadata": {},
   "source": [
    "Unsurprisingly, Jerry has the most lines followed by George, Elaine, and Kramer. We will use these 4 characters as our primary predictor targets.\n",
    "Next I clean the data to only include these characters and remove the text in parenthesis (not spoken by the character)"
   ]
  },
  {
   "cell_type": "code",
   "execution_count": 4,
   "id": "e83e76ae",
   "metadata": {},
   "outputs": [
    {
     "name": "stderr",
     "output_type": "stream",
     "text": [
      "<ipython-input-4-b8cb78b855a7>:8: FutureWarning: The default value of regex will change from True to False in a future version.\n",
      "  cleanedDF['Character Text'] = cleanedDF['Character Text'].str.replace(r\"\\[.*\\]\",\"\")\n",
      "<ipython-input-4-b8cb78b855a7>:9: FutureWarning: The default value of regex will change from True to False in a future version.\n",
      "  cleanedDF['Character Text'] = cleanedDF['Character Text'].str.replace(r\"\\(.*\\)\",\"\")\n"
     ]
    },
    {
     "data": {
      "text/html": [
       "<div>\n",
       "<style scoped>\n",
       "    .dataframe tbody tr th:only-of-type {\n",
       "        vertical-align: middle;\n",
       "    }\n",
       "\n",
       "    .dataframe tbody tr th {\n",
       "        vertical-align: top;\n",
       "    }\n",
       "\n",
       "    .dataframe thead th {\n",
       "        text-align: right;\n",
       "    }\n",
       "</style>\n",
       "<table border=\"1\" class=\"dataframe\">\n",
       "  <thead>\n",
       "    <tr style=\"text-align: right;\">\n",
       "      <th></th>\n",
       "      <th>Character</th>\n",
       "      <th>Character Text</th>\n",
       "    </tr>\n",
       "  </thead>\n",
       "  <tbody>\n",
       "    <tr>\n",
       "      <th>50435</th>\n",
       "      <td>elaine</td>\n",
       "      <td>hey, do you believe i got happy new year toda...</td>\n",
       "    </tr>\n",
       "    <tr>\n",
       "      <th>54161</th>\n",
       "      <td>george</td>\n",
       "      <td>, we'll see you in a little while.</td>\n",
       "    </tr>\n",
       "    <tr>\n",
       "      <th>81500</th>\n",
       "      <td>george</td>\n",
       "      <td>jerry, would you make the call already?</td>\n",
       "    </tr>\n",
       "    <tr>\n",
       "      <th>26429</th>\n",
       "      <td>george</td>\n",
       "      <td>..okay.</td>\n",
       "    </tr>\n",
       "    <tr>\n",
       "      <th>46803</th>\n",
       "      <td>jerry</td>\n",
       "      <td>hey, shall we spit on him?</td>\n",
       "    </tr>\n",
       "  </tbody>\n",
       "</table>\n",
       "</div>"
      ],
      "text/plain": [
       "      Character                                     Character Text\n",
       "50435    elaine   hey, do you believe i got happy new year toda...\n",
       "54161    george                 , we'll see you in a little while.\n",
       "81500    george            jerry, would you make the call already?\n",
       "26429    george                                            ..okay.\n",
       "46803     jerry                         hey, shall we spit on him?"
      ]
     },
     "execution_count": 4,
     "metadata": {},
     "output_type": "execute_result"
    }
   ],
   "source": [
    "# clean character col for jerry, george, elaine, and kramer\n",
    "cleanedDF = cleanedDF[(cleanedDF['Character'] == 'jerry') \n",
    "                      | (cleanedDF['Character'] == 'george') \n",
    "                      | (cleanedDF['Character'] == 'elaine') \n",
    "                      | (cleanedDF['Character'] == 'kramer')]\n",
    "\n",
    "# clean character text from brackets, characters do not say these lines\n",
    "cleanedDF['Character Text'] = cleanedDF['Character Text'].str.replace(r\"\\[.*\\]\",\"\")\n",
    "cleanedDF['Character Text'] = cleanedDF['Character Text'].str.replace(r\"\\(.*\\)\",\"\")\n",
    "cleanedDF.sample(5)"
   ]
  },
  {
   "cell_type": "code",
   "execution_count": 6,
   "id": "f654459e",
   "metadata": {},
   "outputs": [
    {
     "name": "stdout",
     "output_type": "stream",
     "text": [
      "<class 'pandas.core.frame.DataFrame'>\n",
      "Int64Index: 24777 entries, 21738 to 86925\n",
      "Data columns (total 2 columns):\n",
      " #   Column          Non-Null Count  Dtype \n",
      "---  ------          --------------  ----- \n",
      " 0   Character       24777 non-null  object\n",
      " 1   Character Text  24777 non-null  object\n",
      "dtypes: object(2)\n",
      "memory usage: 580.7+ KB\n"
     ]
    }
   ],
   "source": [
    "cleanedDF.info()"
   ]
  },
  {
   "cell_type": "code",
   "execution_count": 7,
   "id": "dd3b3b14",
   "metadata": {},
   "outputs": [
    {
     "data": {
      "text/plain": [
       "<AxesSubplot:>"
      ]
     },
     "execution_count": 7,
     "metadata": {},
     "output_type": "execute_result"
    },
    {
     "data": {
      "image/png": "[encoded data removed]",
      "text/plain": [
       "<Figure size 432x288 with 1 Axes>"
      ]
     },
     "metadata": {
      "needs_background": "light"
     },
     "output_type": "display_data"
    }
   ],
   "source": [
    "# plot distribution\n",
    "cleanedDF.Character.value_counts().plot(kind='bar')"
   ]
  },
  {
   "cell_type": "code",
   "execution_count": 8,
   "id": "ef6cda2d",
   "metadata": {},
   "outputs": [
    {
     "data": {
      "text/plain": [
       "jerry     9358\n",
       "george    6263\n",
       "elaine    4989\n",
       "kramer    4167\n",
       "Name: Character, dtype: int64"
      ]
     },
     "execution_count": 8,
     "metadata": {},
     "output_type": "execute_result"
    }
   ],
   "source": [
    "# display values. this helps determine our baseline for accuracy when we build out models\n",
    "cleanedDF.Character.value_counts()"
   ]
  },
  {
   "cell_type": "markdown",
   "id": "a2e996c1",
   "metadata": {},
   "source": [
    "##### 2 - Pre-processing\n",
    "In this step, the character text col will be modified by tokenization, removal of stop words, stemming, and lemmatization. source: https://towardsdatascience.com/text-classification-with-nlp-tf-idf-vs-word2vec-vs-bert-41ff868d1794"
   ]
  },
  {
   "cell_type": "code",
   "execution_count": 9,
   "id": "636d3055",
   "metadata": {},
   "outputs": [],
   "source": [
    "'''\n",
    "Preprocess a string.\n",
    ":parameter\n",
    "    :param text: string - name of column containing text\n",
    "    :param lst_stopwords: list - list of stopwords to remove\n",
    "    :param flg_stemm: bool - whether stemming is to be applied\n",
    "    :param flg_lemm: bool - whether lemmitisation is to be applied\n",
    ":return\n",
    "    cleaned text\n",
    "'''\n",
    "def utils_preprocess_text(text, flg_stemm=False, flg_lemm=True, lst_stopwords=None):\n",
    "    ## clean (convert to lowercase and remove punctuations and characters and then strip)\n",
    "    text = re.sub(r'[^\\w\\s]', '', str(text).lower().strip())\n",
    "            \n",
    "    ## Tokenize (convert from string to list)\n",
    "    lst_text = text.split()\n",
    "    ## remove Stopwords\n",
    "    if lst_stopwords is not None:\n",
    "        lst_text = [word for word in lst_text if word not in \n",
    "                    lst_stopwords]\n",
    "                \n",
    "    ## Stemming (remove -ing, -ly, ...)\n",
    "    if flg_stemm == True:\n",
    "        ps = nltk.stem.porter.PorterStemmer()\n",
    "        lst_text = [ps.stem(word) for word in lst_text]\n",
    "                \n",
    "    ## Lemmatisation (convert the word into root word)\n",
    "    if flg_lemm == True:\n",
    "        lem = nltk.stem.wordnet.WordNetLemmatizer()\n",
    "        lst_text = [lem.lemmatize(word) for word in lst_text]\n",
    "            \n",
    "    ## back to string from list\n",
    "    text = \" \".join(lst_text)\n",
    "    return text\n"
   ]
  },
  {
   "cell_type": "code",
   "execution_count": 10,
   "id": "99f9a5d7",
   "metadata": {},
   "outputs": [
    {
     "data": {
      "text/html": [
       "<div>\n",
       "<style scoped>\n",
       "    .dataframe tbody tr th:only-of-type {\n",
       "        vertical-align: middle;\n",
       "    }\n",
       "\n",
       "    .dataframe tbody tr th {\n",
       "        vertical-align: top;\n",
       "    }\n",
       "\n",
       "    .dataframe thead th {\n",
       "        text-align: right;\n",
       "    }\n",
       "</style>\n",
       "<table border=\"1\" class=\"dataframe\">\n",
       "  <thead>\n",
       "    <tr style=\"text-align: right;\">\n",
       "      <th></th>\n",
       "      <th>Character</th>\n",
       "      <th>Character Text</th>\n",
       "      <th>Character Text_clean</th>\n",
       "    </tr>\n",
       "  </thead>\n",
       "  <tbody>\n",
       "    <tr>\n",
       "      <th>21738</th>\n",
       "      <td>jerry</td>\n",
       "      <td>you know, why we're here?  \"he didn't tell me...</td>\n",
       "      <td>know didnt tell going must gone wanna go get r...</td>\n",
       "    </tr>\n",
       "    <tr>\n",
       "      <th>21741</th>\n",
       "      <td>jerry</td>\n",
       "      <td>seems to me, that button is in the worst poss...</td>\n",
       "      <td>seems button worst possible spot second button...</td>\n",
       "    </tr>\n",
       "    <tr>\n",
       "      <th>21742</th>\n",
       "      <td>george</td>\n",
       "      <td>are you through?</td>\n",
       "      <td></td>\n",
       "    </tr>\n",
       "    <tr>\n",
       "      <th>21743</th>\n",
       "      <td>jerry</td>\n",
       "      <td>you do of course try on, when you buy?</td>\n",
       "      <td>course try buy</td>\n",
       "    </tr>\n",
       "    <tr>\n",
       "      <th>21744</th>\n",
       "      <td>george</td>\n",
       "      <td>yes, it was purple, i liked it, i don't actua...</td>\n",
       "      <td>yes purple liked dont actually recall consider...</td>\n",
       "    </tr>\n",
       "  </tbody>\n",
       "</table>\n",
       "</div>"
      ],
      "text/plain": [
       "      Character                                     Character Text  \\\n",
       "21738     jerry   you know, why we're here?  \"he didn't tell me...   \n",
       "21741     jerry   seems to me, that button is in the worst poss...   \n",
       "21742    george                                  are you through?    \n",
       "21743     jerry             you do of course try on, when you buy?   \n",
       "21744    george   yes, it was purple, i liked it, i don't actua...   \n",
       "\n",
       "                                    Character Text_clean  \n",
       "21738  know didnt tell going must gone wanna go get r...  \n",
       "21741  seems button worst possible spot second button...  \n",
       "21742                                                     \n",
       "21743                                     course try buy  \n",
       "21744  yes purple liked dont actually recall consider...  "
      ]
     },
     "execution_count": 10,
     "metadata": {},
     "output_type": "execute_result"
    }
   ],
   "source": [
    "# download NLTK data, un-comment these out if you don't have it\n",
    "# nltk.download('wordnet')\n",
    "# nltk.download('stopwords')\n",
    "\n",
    "# obtain stopwords\n",
    "lst_stopwords = nltk.corpus.stopwords.words(\"english\")\n",
    "cleanedDF[\"Character Text_clean\"] = cleanedDF[\"Character Text\"].apply(lambda x: \n",
    "          utils_preprocess_text(x, flg_stemm=False, flg_lemm=True, \n",
    "          lst_stopwords=lst_stopwords))\n",
    "cleanedDF.head()"
   ]
  },
  {
   "cell_type": "code",
   "execution_count": 11,
   "id": "b57e66a2",
   "metadata": {},
   "outputs": [],
   "source": [
    "## split dataset\n",
    "dtf_train, dtf_test = model_selection.train_test_split(cleanedDF, test_size=0.3)\n",
    "## get target\n",
    "y_train = dtf_train[\"Character\"].values\n",
    "y_test = dtf_test[\"Character\"].values"
   ]
  },
  {
   "cell_type": "markdown",
   "id": "2fc31b7d",
   "metadata": {},
   "source": [
    "##### 3 - Baseline Model"
   ]
  },
  {
   "cell_type": "markdown",
   "id": "99c854c6",
   "metadata": {},
   "source": [
    "For the baseline model, we will use naive bayes as its extremely quick train time will provide an idea of whether the model can predict better than baseline accuracy.\n",
    "Feature Engineering: use tf-idf vectorizer to extract info from the data"
   ]
  },
  {
   "cell_type": "code",
   "execution_count": 12,
   "id": "b52a0ae5",
   "metadata": {},
   "outputs": [
    {
     "data": {
      "text/plain": [
       "Text(0.5, 1.0, 'Sparse Matrix Sample')"
      ]
     },
     "execution_count": 12,
     "metadata": {},
     "output_type": "execute_result"
    },
    {
     "data": {
      "image/png": "[encoded data removed]",
      "text/plain": [
       "<Figure size 432x288 with 1 Axes>"
      ]
     },
     "metadata": {
      "needs_background": "light"
     },
     "output_type": "display_data"
    }
   ],
   "source": [
    "## Tf-Idf (advanced variant of BoW)\n",
    "# from sklearn, use feature extraction to convert words into vectors\n",
    "vectorizer = feature_extraction.text.TfidfVectorizer(max_features=10000, ngram_range=(1,2))\n",
    "\n",
    "corpus = dtf_train[\"Character Text_clean\"]\n",
    "vectorizer.fit(corpus)\n",
    "X_train = vectorizer.transform(corpus)\n",
    "dic_vocabulary = vectorizer.vocabulary_\n",
    "\n",
    "sns.heatmap(X_train.todense()[:,np.random.randint(0,X_train.shape[1],100)]==0, vmin=0, vmax=1, \n",
    "            cbar=False).set_title('Sparse Matrix Sample')"
   ]
  },
  {
   "cell_type": "markdown",
   "id": "7251a5d5",
   "metadata": {},
   "source": [
    "The matrix is fairly sparse, we can reduce dimensionality with feature selection.\n",
    "We can treat each category as binary and do a Chi-Square test to determine whether a feature and the (binary) target are independent"
   ]
  },
  {
   "cell_type": "code",
   "execution_count": 13,
   "id": "048f77db",
   "metadata": {},
   "outputs": [],
   "source": [
    "# chi-square test\n",
    "y = dtf_train[\"Character\"]\n",
    "X_names = vectorizer.get_feature_names()\n",
    "p_value_limit = 0.95\n",
    "dtf_features = pd.DataFrame()\n",
    "for cat in np.unique(y):\n",
    "    chi2, p = feature_selection.chi2(X_train, y==cat)\n",
    "    dtf_features = dtf_features.append(pd.DataFrame(\n",
    "                   {\"feature\":X_names, \"score\":1-p, \"y\":cat}))\n",
    "    dtf_features = dtf_features.sort_values([\"y\",\"score\"], \n",
    "                    ascending=[True,False])\n",
    "    dtf_features = dtf_features[dtf_features[\"score\"]>p_value_limit]\n",
    "X_names = dtf_features[\"feature\"].unique().tolist()"
   ]
  },
  {
   "cell_type": "code",
   "execution_count": 14,
   "id": "f21b36ab",
   "metadata": {},
   "outputs": [
    {
     "name": "stdout",
     "output_type": "stream",
     "text": [
      "# elaine:\n",
      "  . selected features: 273\n",
      "  . top features: hi,bike,mr peterman,um,oh,lippman,peterman,ugh,mr lippman,pitt\n",
      " \n",
      "# george:\n",
      "  . selected features: 233\n",
      "  . top features: moops,seven,yeah,susan,course,aware,soda,bozo,twix,newman\n",
      " \n",
      "# jerry:\n",
      "  . selected features: 66\n",
      "  . top features: jerry,uh,leo,elaine,ha,hello newman,uncle leo,mr,dunno,name\n",
      " \n",
      "# kramer:\n",
      "  . selected features: 443\n",
      "  . top features: buddy,hey,yeah,hey buddy,oh hey,hey jerry,jerry,uh yeah,well,rusty\n",
      " \n"
     ]
    }
   ],
   "source": [
    "for cat in np.unique(y):\n",
    "   print(\"# {}:\".format(cat))\n",
    "   print(\"  . selected features:\",\n",
    "         len(dtf_features[dtf_features[\"y\"]==cat]))\n",
    "   print(\"  . top features:\", \",\".join(dtf_features[dtf_features[\"y\"]==cat][\"feature\"].values[:10]))\n",
    "   print(\" \")"
   ]
  },
  {
   "cell_type": "code",
   "execution_count": 15,
   "id": "ca6c07e3",
   "metadata": {},
   "outputs": [
    {
     "data": {
      "text/plain": [
       "Text(0.5, 1.0, 'Sparse Matrix Sample')"
      ]
     },
     "execution_count": 15,
     "metadata": {},
     "output_type": "execute_result"
    },
    {
     "data": {
      "image/png": "[encoded data removed]",
      "text/plain": [
       "<Figure size 432x288 with 1 Axes>"
      ]
     },
     "metadata": {
      "needs_background": "light"
     },
     "output_type": "display_data"
    }
   ],
   "source": [
    "# repeat visualization\n",
    "vectorizer = feature_extraction.text.TfidfVectorizer(vocabulary=X_names)\n",
    "vectorizer.fit(corpus)\n",
    "X_train = vectorizer.transform(corpus)\n",
    "dic_vocabulary = vectorizer.vocabulary_\n",
    "sns.heatmap(X_train.todense()[:,np.random.randint(0,X_train.shape[1],100)]==0, vmin=0, vmax=1, cbar=False).set_title('Sparse Matrix Sample')\n"
   ]
  },
  {
   "cell_type": "markdown",
   "id": "9ebfeb28",
   "metadata": {},
   "source": [
    "The matrix is now a little less sparse"
   ]
  },
  {
   "cell_type": "markdown",
   "id": "f8694e63",
   "metadata": {},
   "source": [
    "##### Naive Bayes Model"
   ]
  },
  {
   "cell_type": "code",
   "execution_count": 16,
   "id": "959760a9",
   "metadata": {},
   "outputs": [],
   "source": [
    "classifier = naive_bayes.MultinomialNB()"
   ]
  },
  {
   "cell_type": "code",
   "execution_count": 17,
   "id": "40ff47cb",
   "metadata": {},
   "outputs": [],
   "source": [
    "## pipeline\n",
    "model = pipeline.Pipeline([(\"vectorizer\", vectorizer),  \n",
    "                           (\"classifier\", classifier)])\n",
    "## train classifier\n",
    "model[\"classifier\"].fit(X_train, y_train)\n",
    "## test\n",
    "X_test = dtf_test[\"Character Text_clean\"].values\n",
    "predicted = model.predict(X_test)\n",
    "predicted_prob = model.predict_proba(X_test)"
   ]
  },
  {
   "cell_type": "code",
   "execution_count": 18,
   "id": "516fbdf1",
   "metadata": {},
   "outputs": [
    {
     "name": "stdout",
     "output_type": "stream",
     "text": [
      "Accuracy: 0.42\n",
      "Auc: 0.6\n",
      "Detail:\n",
      "              precision    recall  f1-score   support\n",
      "\n",
      "      elaine       0.48      0.10      0.16      1472\n",
      "      george       0.40      0.13      0.20      1890\n",
      "       jerry       0.41      0.91      0.56      2837\n",
      "      kramer       0.50      0.10      0.17      1235\n",
      "\n",
      "    accuracy                           0.42      7434\n",
      "   macro avg       0.45      0.31      0.27      7434\n",
      "weighted avg       0.44      0.42      0.33      7434\n",
      "\n"
     ]
    },
    {
     "data": {
      "text/plain": [
       "(array([0.5, 1.5, 2.5, 3.5]),\n",
       " [Text(0, 0.5, 'elaine'),\n",
       "  Text(0, 1.5, 'george'),\n",
       "  Text(0, 2.5, 'jerry'),\n",
       "  Text(0, 3.5, 'kramer')])"
      ]
     },
     "execution_count": 18,
     "metadata": {},
     "output_type": "execute_result"
    },
    {
     "data": {
      "image/png": "[encoded data removed]",
      "text/plain": [
       "<Figure size 432x288 with 1 Axes>"
      ]
     },
     "metadata": {
      "needs_background": "light"
     },
     "output_type": "display_data"
    }
   ],
   "source": [
    "classes = np.unique(y_test)\n",
    "y_test_array = pd.get_dummies(y_test, drop_first=False).values\n",
    "    \n",
    "## Accuracy, Precision, Recall\n",
    "accuracy = metrics.accuracy_score(y_test, predicted)\n",
    "auc = metrics.roc_auc_score(y_test, predicted_prob, \n",
    "                            multi_class=\"ovr\")\n",
    "print(\"Accuracy:\",  round(accuracy,2))\n",
    "print(\"Auc:\", round(auc,2))\n",
    "print(\"Detail:\")\n",
    "print(metrics.classification_report(y_test, predicted))\n",
    "    \n",
    "## Plot confusion matrix\n",
    "cm = metrics.confusion_matrix(y_test, predicted)\n",
    "fig, ax = plt.subplots()\n",
    "sns.heatmap(cm, annot=True, fmt='d', ax=ax, cmap=plt.cm.Blues, \n",
    "            cbar=False)\n",
    "ax.set(xlabel=\"Pred\", ylabel=\"True\", xticklabels=classes, \n",
    "       yticklabels=classes, title=\"Confusion matrix\")\n",
    "plt.yticks(rotation=0)\n"
   ]
  },
  {
   "cell_type": "code",
   "execution_count": 19,
   "id": "d05c176b",
   "metadata": {},
   "outputs": [
    {
     "data": {
      "image/png": "[encoded data removed]",
      "text/plain": [
       "<Figure size 432x288 with 2 Axes>"
      ]
     },
     "metadata": {
      "needs_background": "light"
     },
     "output_type": "display_data"
    }
   ],
   "source": [
    "## Plot roc\n",
    "fig, ax = plt.subplots(nrows=1, ncols=2)\n",
    "\n",
    "for i in range(len(classes)):\n",
    "    fpr, tpr, thresholds = metrics.roc_curve(y_test_array[:,i],  \n",
    "                           predicted_prob[:,i])\n",
    "    ax[0].plot(fpr, tpr, lw=3, \n",
    "              label='{0} (area={1:0.2f})'.format(classes[i], \n",
    "                              metrics.auc(fpr, tpr))\n",
    "               )\n",
    "ax[0].plot([0,1], [0,1], color='navy', lw=3, linestyle='--')\n",
    "ax[0].set(xlim=[-0.05,1.0], ylim=[0.0,1.05], \n",
    "          xlabel='False Positive Rate', \n",
    "          ylabel=\"True Positive Rate (Recall)\", \n",
    "          title=\"Receiver operating characteristic\")\n",
    "ax[0].legend(loc=\"lower right\")\n",
    "ax[0].grid(True)\n",
    "\n",
    "## Plot precision-recall curve\n",
    "for i in range(len(classes)):\n",
    "    precision, recall, thresholds = metrics.precision_recall_curve(\n",
    "                 y_test_array[:,i], predicted_prob[:,i])\n",
    "    ax[1].plot(recall, precision, lw=3, \n",
    "               label='{0} (area={1:0.2f})'.format(classes[i], \n",
    "                                  metrics.auc(recall, precision))\n",
    "              )\n",
    "ax[1].set(xlim=[0.0,1.05], ylim=[0.0,1.05], xlabel='Recall', \n",
    "          ylabel=\"Precision\", title=\"Precision-Recall curve\")\n",
    "ax[1].legend(loc=\"best\")\n",
    "ax[1].grid(True)\n",
    "plt.show()"
   ]
  },
  {
   "cell_type": "markdown",
   "id": "b52e9cd3",
   "metadata": {},
   "source": [
    "The model is able to produce accuracy of 42%, which is higher than the baseline accuracy blindly guessing Jerry for all test labels (37.8%). Given the above ROC (0.6) we can understand that it has a poor time distinguishing between the characters."
   ]
  },
  {
   "cell_type": "markdown",
   "id": "e84775da",
   "metadata": {},
   "source": [
    "##### BERT - source: https://swatimeena989.medium.com/distilbert-text-classification-using-keras-c1201d3a3d9d"
   ]
  },
  {
   "cell_type": "code",
   "execution_count": 169,
   "id": "90843138",
   "metadata": {},
   "outputs": [
    {
     "name": "stderr",
     "output_type": "stream",
     "text": [
      "Some layers from the model checkpoint at distilbert-base-uncased were not used when initializing TFDistilBertModel: ['activation_13', 'vocab_transform', 'vocab_layer_norm', 'vocab_projector']\n",
      "- This IS expected if you are initializing TFDistilBertModel from the checkpoint of a model trained on another task or with another architecture (e.g. initializing a BertForSequenceClassification model from a BertForPreTraining model).\n",
      "- This IS NOT expected if you are initializing TFDistilBertModel from the checkpoint of a model that you expect to be exactly identical (initializing a BertForSequenceClassification model from a BertForSequenceClassification model).\n",
      "All the layers of TFDistilBertModel were initialized from the model checkpoint at distilbert-base-uncased.\n",
      "If your task is similar to the task the model of the checkpoint was trained on, you can already use TFDistilBertModel for predictions without further training.\n"
     ]
    },
    {
     "data": {
      "text/plain": [
       "(24777, 24777)"
      ]
     },
     "execution_count": 169,
     "metadata": {},
     "output_type": "execute_result"
    }
   ],
   "source": [
    "# setup for distilBERT -> labeled as dbert\n",
    "dbert_tokenizer = DistilBertTokenizer.from_pretrained('distilbert-base-uncased')\n",
    "dbert_model = TFDistilBertModel.from_pretrained('distilbert-base-uncased')\n",
    "\n",
    "# setup for sentance and label matching of seinfeld scripts\n",
    "max_len=32\n",
    "num_classes=len(cleanedDF.Character.unique())\n",
    "sentences=cleanedDF['Character Text']\n",
    "labels=cleanedDF['Character']\n",
    "len(sentences),len(labels)"
   ]
  },
  {
   "cell_type": "code",
   "execution_count": 12,
   "id": "b23e0eae",
   "metadata": {},
   "outputs": [],
   "source": [
    "#dbert_inp=dbert_tokenizer.encode_plus(sentences[0],add_special_tokens = True,max_length =20,pad_to_max_length = True,truncation=True)"
   ]
  },
  {
   "cell_type": "code",
   "execution_count": 170,
   "id": "b95accc7",
   "metadata": {},
   "outputs": [],
   "source": [
    "# Create a basic NN model using DistilBERT embeddings to get the predictions\n",
    "def create_model():\n",
    "    inps = Input(shape = (max_len,), dtype='int64')\n",
    "    masks= Input(shape = (max_len,), dtype='int64')\n",
    "    dbert_layer = dbert_model(inps, attention_mask=masks)[0][:,0,:]\n",
    "    dense = Dense(512,activation='relu',kernel_regularizer=regularizers.l2(0.01))(dbert_layer)\n",
    "    dropout= Dropout(0.5)(dense)\n",
    "    pred = Dense(num_classes, activation='softmax',kernel_regularizer=regularizers.l2(0.01))(dropout)\n",
    "    model = tf.keras.Model(inputs=[inps,masks], outputs=pred)\n",
    "    print(model.summary())\n",
    "    return model"
   ]
  },
  {
   "cell_type": "code",
   "execution_count": 171,
   "id": "d74b0568",
   "metadata": {},
   "outputs": [
    {
     "name": "stdout",
     "output_type": "stream",
     "text": [
      "WARNING:tensorflow:The parameters `output_attentions`, `output_hidden_states` and `use_cache` cannot be updated when calling a model.They have to be set to True/False in the config object (i.e.: `config=XConfig.from_pretrained('name', output_attentions=True)`).\n",
      "WARNING:tensorflow:The parameter `return_dict` cannot be set in graph mode and will always be set to `True`.\n",
      "Model: \"model_7\"\n",
      "__________________________________________________________________________________________________\n",
      "Layer (type)                    Output Shape         Param #     Connected to                     \n",
      "==================================================================================================\n",
      "input_15 (InputLayer)           [(None, 32)]         0                                            \n",
      "__________________________________________________________________________________________________\n",
      "input_16 (InputLayer)           [(None, 32)]         0                                            \n",
      "__________________________________________________________________________________________________\n",
      "tf_distil_bert_model_2 (TFDisti TFBaseModelOutput(la 66362880    input_15[0][0]                   \n",
      "                                                                 input_16[0][0]                   \n",
      "__________________________________________________________________________________________________\n",
      "tf.__operators__.getitem_7 (Sli (None, 768)          0           tf_distil_bert_model_2[0][0]     \n",
      "__________________________________________________________________________________________________\n",
      "dense_14 (Dense)                (None, 512)          393728      tf.__operators__.getitem_7[0][0] \n",
      "__________________________________________________________________________________________________\n",
      "dropout_64 (Dropout)            (None, 512)          0           dense_14[0][0]                   \n",
      "__________________________________________________________________________________________________\n",
      "dense_15 (Dense)                (None, 4)            2052        dropout_64[0][0]                 \n",
      "==================================================================================================\n",
      "Total params: 66,758,660\n",
      "Trainable params: 66,758,660\n",
      "Non-trainable params: 0\n",
      "__________________________________________________________________________________________________\n",
      "None\n"
     ]
    }
   ],
   "source": [
    "model=create_model()"
   ]
  },
  {
   "cell_type": "code",
   "execution_count": 172,
   "id": "8a73e738",
   "metadata": {},
   "outputs": [
    {
     "name": "stderr",
     "output_type": "stream",
     "text": [
      "C:\\Users\\Victor\\anaconda3\\lib\\site-packages\\transformers\\tokenization_utils_base.py:2198: FutureWarning: The `pad_to_max_length` argument is deprecated and will be removed in a future version, use `padding=True` or `padding='longest'` to pad to the longest sequence in the batch, or use `padding='max_length'` to pad to a max length. In this case, you can give a specific length with `max_length` (e.g. `max_length=45`) or leave max_length to None to pad to the maximal input size of the model (e.g. 512 for Bert).\n",
      "  warnings.warn(\n"
     ]
    }
   ],
   "source": [
    "# create id and mask layers\n",
    "input_ids=[]\n",
    "attention_masks=[]\n",
    "\n",
    "for sent in sentences:\n",
    "    dbert_inps=dbert_tokenizer.encode_plus(sent,add_special_tokens = True,max_length =max_len,pad_to_max_length = True,return_attention_mask = True,truncation=True)\n",
    "    input_ids.append(dbert_inps['input_ids'])\n",
    "    attention_masks.append(dbert_inps['attention_mask'])\n",
    "\n",
    "input_ids=np.asarray(input_ids)\n",
    "attention_masks=np.array(attention_masks)\n",
    "labels=np.array(labels)"
   ]
  },
  {
   "cell_type": "code",
   "execution_count": 29,
   "id": "8452b4ec",
   "metadata": {},
   "outputs": [
    {
     "data": {
      "text/plain": [
       "(24777, 24777, 24777)"
      ]
     },
     "execution_count": 29,
     "metadata": {},
     "output_type": "execute_result"
    }
   ],
   "source": [
    "# confirm that 3 layers are all equal size\n",
    "len(input_ids),len(attention_masks),len(labels)"
   ]
  },
  {
   "cell_type": "code",
   "execution_count": 31,
   "id": "ac9bf197",
   "metadata": {},
   "outputs": [
    {
     "name": "stdout",
     "output_type": "stream",
     "text": [
      "Preparing the pickle file.....\n",
      "Pickle files saved as  ./data/dbert_inp.pkl ./data/dbert_mask.pkl ./data/dbert_label.pkl\n"
     ]
    }
   ],
   "source": [
    "# save to local folder for ease of use if required in the future\n",
    "print('Preparing the pickle file.....')\n",
    "\n",
    "pickle_inp_path='./data/dbert_inp.pkl'\n",
    "pickle_mask_path='./data/dbert_mask.pkl'\n",
    "pickle_label_path='./data/dbert_label.pkl'\n",
    "\n",
    "pickle.dump((input_ids),open(pickle_inp_path,'wb'))\n",
    "pickle.dump((attention_masks),open(pickle_mask_path,'wb'))\n",
    "pickle.dump((labels),open(pickle_label_path,'wb'))\n",
    "\n",
    "\n",
    "print('Pickle files saved as ',pickle_inp_path,pickle_mask_path,pickle_label_path)"
   ]
  },
  {
   "cell_type": "code",
   "execution_count": 32,
   "id": "2a3e5d54",
   "metadata": {},
   "outputs": [
    {
     "name": "stdout",
     "output_type": "stream",
     "text": [
      "Loading the saved pickle files..\n",
      "Input shape (24777, 32) Attention mask shape (24777, 32) Input label shape (24777,)\n"
     ]
    }
   ],
   "source": [
    "# load saved files\n",
    "print('Loading the saved pickle files..')\n",
    "\n",
    "input_ids=pickle.load(open(pickle_inp_path, 'rb'))\n",
    "attention_masks=pickle.load(open(pickle_mask_path, 'rb'))\n",
    "labels=pickle.load(open(pickle_label_path, 'rb'))\n",
    "\n",
    "print('Input shape {} Attention mask shape {} Input label shape {}'.format(input_ids.shape,attention_masks.shape,labels.shape))"
   ]
  },
  {
   "cell_type": "code",
   "execution_count": 33,
   "id": "bb38c152",
   "metadata": {},
   "outputs": [
    {
     "name": "stdout",
     "output_type": "stream",
     "text": [
      "Train inp shape (19821, 32) Val input shape (4956, 32)\n",
      "Train label shape (19821,) Val label shape (4956,)\n",
      "Train attention mask shape (19821, 32) Val attention mask shape (4956, 32)\n"
     ]
    }
   ],
   "source": [
    "# split layers into train and test, 80% and 20% respectively\n",
    "train_inp,val_inp,train_label,val_label,train_mask,val_mask=train_test_split(input_ids,labels,attention_masks,test_size=0.2)\n",
    "\n",
    "print('Train inp shape {} Val input shape {}\\nTrain label shape {} Val label shape {}\\nTrain attention mask shape {} Val attention mask shape {}'.format(train_inp.shape,val_inp.shape,train_label.shape,val_label.shape,train_mask.shape,val_mask.shape))\n",
    "\n",
    "# define where to save the model as running this took ~20 mins per epoch\n",
    "log_dir='dbert_model'\n",
    "model_save_path='./dbert_model.h5'\n",
    "# callback to save the model\n",
    "callbacks = [tf.keras.callbacks.ModelCheckpoint(filepath=model_save_path,save_weights_only=True,monitor='val_loss',mode='min',save_best_only=True),keras.callbacks.TensorBoard(log_dir=log_dir)]\n",
    "# metrics\n",
    "loss = tf.keras.losses.SparseCategoricalCrossentropy(from_logits=True)\n",
    "metric = tf.keras.metrics.SparseCategoricalAccuracy('accuracy')\n",
    "optimizer = tf.keras.optimizers.Adam(learning_rate=3e-5)\n",
    "\n",
    "model.compile(loss=loss,optimizer=optimizer, metrics=[metric])"
   ]
  },
  {
   "cell_type": "code",
   "execution_count": 133,
   "id": "59bcb906",
   "metadata": {},
   "outputs": [],
   "source": [
    "#callbacks= [tf.keras.callbacks.ModelCheckpoint(filepath=model_save_path,save_weights_only=True,monitor='val_loss',mode='min',save_best_only=True),keras.callbacks.TensorBoard(log_dir=log_dir)]\n",
    "#model.compile(loss=loss,optimizer=optimizer, metrics=[metric])"
   ]
  },
  {
   "cell_type": "code",
   "execution_count": 165,
   "id": "305a80aa",
   "metadata": {},
   "outputs": [
    {
     "data": {
      "text/plain": [
       "(array([2, 0, 3, ..., 0, 0, 3], dtype=int64),\n",
       " array([3, 2, 1, ..., 0, 0, 1], dtype=int64))"
      ]
     },
     "execution_count": 165,
     "metadata": {},
     "output_type": "execute_result"
    }
   ],
   "source": [
    "# before running dbert model\n",
    "# convert categorical data in labels to 0, 1, etc..\n",
    "label_encoder = LabelEncoder()\n",
    "train_label = np.array(label_encoder.fit_transform(train_label))\n",
    "val_label = np.array(label_encoder.fit_transform(val_label))\n",
    "train_label,val_label"
   ]
  },
  {
   "cell_type": "code",
   "execution_count": 153,
   "id": "e58e44ee",
   "metadata": {},
   "outputs": [
    {
     "name": "stdout",
     "output_type": "stream",
     "text": [
      "WARNING:tensorflow:Model failed to serialize as JSON. Ignoring... \n",
      "Epoch 1/5\n",
      "1239/1239 [==============================] - 1535s 1s/step - loss: 3.2020 - accuracy: 0.4445 - val_loss: 2.6332 - val_accuracy: 0.4502\n",
      "Epoch 2/5\n",
      "1239/1239 [==============================] - 1528s 1s/step - loss: 2.1373 - accuracy: 0.5478 - val_loss: 2.1151 - val_accuracy: 0.4550\n",
      "Epoch 3/5\n",
      "1239/1239 [==============================] - 1503s 1s/step - loss: 1.4913 - accuracy: 0.6735 - val_loss: 1.9589 - val_accuracy: 0.4538\n",
      "Epoch 4/5\n",
      "1239/1239 [==============================] - 1503s 1s/step - loss: 1.0494 - accuracy: 0.7652 - val_loss: 1.9660 - val_accuracy: 0.4471\n",
      "Epoch 5/5\n",
      "1239/1239 [==============================] - 1530s 1s/step - loss: 0.7722 - accuracy: 0.8220 - val_loss: 2.1034 - val_accuracy: 0.4338\n"
     ]
    }
   ],
   "source": [
    "# run and save the model. this takes ~20 mins per epoch\n",
    "history=model.fit([train_inp,train_mask],train_label,batch_size=16,epochs=5,validation_data=([val_inp,val_mask],val_label),callbacks=callbacks)"
   ]
  },
  {
   "cell_type": "code",
   "execution_count": 173,
   "id": "fccee34a",
   "metadata": {},
   "outputs": [
    {
     "name": "stdout",
     "output_type": "stream",
     "text": [
      "WARNING:tensorflow:The parameters `output_attentions`, `output_hidden_states` and `use_cache` cannot be updated when calling a model.They have to be set to True/False in the config object (i.e.: `config=XConfig.from_pretrained('name', output_attentions=True)`).\n",
      "WARNING:tensorflow:The parameter `return_dict` cannot be set in graph mode and will always be set to `True`.\n",
      "Model: \"model_8\"\n",
      "__________________________________________________________________________________________________\n",
      "Layer (type)                    Output Shape         Param #     Connected to                     \n",
      "==================================================================================================\n",
      "input_17 (InputLayer)           [(None, 32)]         0                                            \n",
      "__________________________________________________________________________________________________\n",
      "input_18 (InputLayer)           [(None, 32)]         0                                            \n",
      "__________________________________________________________________________________________________\n",
      "tf_distil_bert_model_2 (TFDisti TFBaseModelOutput(la 66362880    input_17[0][0]                   \n",
      "                                                                 input_18[0][0]                   \n",
      "__________________________________________________________________________________________________\n",
      "tf.__operators__.getitem_8 (Sli (None, 768)          0           tf_distil_bert_model_2[1][0]     \n",
      "__________________________________________________________________________________________________\n",
      "dense_16 (Dense)                (None, 512)          393728      tf.__operators__.getitem_8[0][0] \n",
      "__________________________________________________________________________________________________\n",
      "dropout_65 (Dropout)            (None, 512)          0           dense_16[0][0]                   \n",
      "__________________________________________________________________________________________________\n",
      "dense_17 (Dense)                (None, 4)            2052        dropout_65[0][0]                 \n",
      "==================================================================================================\n",
      "Total params: 66,758,660\n",
      "Trainable params: 66,758,660\n",
      "Non-trainable params: 0\n",
      "__________________________________________________________________________________________________\n",
      "None\n"
     ]
    }
   ],
   "source": [
    "# create the trained model and save as \"dbert_model.h5\" \n",
    "# note this file was ~250MB and will not be on github\n",
    "trained_model = create_model()\n",
    "trained_model.compile(loss=loss,optimizer=optimizer, metrics=[metric])\n",
    "trained_model.load_weights(model_save_path)"
   ]
  },
  {
   "cell_type": "code",
   "execution_count": 174,
   "id": "baee9968",
   "metadata": {},
   "outputs": [
    {
     "name": "stdout",
     "output_type": "stream",
     "text": [
      "WARNING:tensorflow:The parameters `output_attentions`, `output_hidden_states` and `use_cache` cannot be updated when calling a model.They have to be set to True/False in the config object (i.e.: `config=XConfig.from_pretrained('name', output_attentions=True)`).\n",
      "WARNING:tensorflow:The parameter `return_dict` cannot be set in graph mode and will always be set to `True`.\n"
     ]
    },
    {
     "data": {
      "text/plain": [
       "0.7441485068603714"
      ]
     },
     "execution_count": 174,
     "metadata": {},
     "output_type": "execute_result"
    }
   ],
   "source": [
    "# determine and print f1 score\n",
    "preds = trained_model.predict([val_inp,val_mask],batch_size=16)\n",
    "pred_labels = preds.argmax(axis=1)\n",
    "\n",
    "f1 = f1_score(val_label,pred_labels,average='micro')\n",
    "f1"
   ]
  },
  {
   "cell_type": "code",
   "execution_count": 175,
   "id": "703e9a76",
   "metadata": {},
   "outputs": [
    {
     "name": "stdout",
     "output_type": "stream",
     "text": [
      "F1 score 0.7441485068603714\n",
      "Classification Report\n",
      "              precision    recall  f1-score   support\n",
      "\n",
      "           0       0.70      0.71      0.71      1014\n",
      "           1       0.83      0.64      0.72      1247\n",
      "           2       0.70      0.85      0.77      1862\n",
      "           3       0.83      0.71      0.77       833\n",
      "\n",
      "    accuracy                           0.74      4956\n",
      "   macro avg       0.76      0.73      0.74      4956\n",
      "weighted avg       0.75      0.74      0.74      4956\n",
      "\n"
     ]
    }
   ],
   "source": [
    "# print metrics\n",
    "print('F1 score',f1)\n",
    "print('Classification Report')\n",
    "print(classification_report(val_label,pred_labels))\n",
    "# note that encoding was done using label_encoder.fit_transform which encodes alphabetically\n",
    "# 0 = elaine, 1 = george, 2 = jerry, 3 = kramer"
   ]
  },
  {
   "cell_type": "code",
   "execution_count": 180,
   "id": "062f26c8",
   "metadata": {},
   "outputs": [],
   "source": [
    "# for ROC curve we need to sort val_labels into 0s and 1s per category in order to graph\n",
    "temp0 = []\n",
    "temp1 = []\n",
    "temp2 = []\n",
    "temp3 = []\n",
    "for i in val_label:\n",
    "    if i == 0:\n",
    "        temp0.append(i+1)\n",
    "        temp1.append(0)\n",
    "        temp2.append(0)\n",
    "        temp3.append(0)\n",
    "    elif i == 1:\n",
    "        temp1.append(i)\n",
    "        temp0.append(0)\n",
    "        temp2.append(0)\n",
    "        temp3.append(0)\n",
    "    elif i == 2:\n",
    "        temp2.append(i-1)\n",
    "        temp1.append(0)\n",
    "        temp0.append(0)\n",
    "        temp3.append(0)\n",
    "    elif i == 3:\n",
    "        temp3.append(i-2)\n",
    "        temp1.append(0)\n",
    "        temp2.append(0)\n",
    "        temp0.append(0)\n",
    "        \n",
    "test_vals_roc = np.c_[temp0, temp1, temp2, temp3]"
   ]
  },
  {
   "cell_type": "code",
   "execution_count": 181,
   "id": "a6d45039",
   "metadata": {},
   "outputs": [
    {
     "data": {
      "image/png": "[encoded data removed]",
      "text/plain": [
       "<Figure size 432x288 with 2 Axes>"
      ]
     },
     "metadata": {
      "needs_background": "light"
     },
     "output_type": "display_data"
    }
   ],
   "source": [
    "## Plot roc\n",
    "fig, ax = plt.subplots(nrows=1, ncols=2)\n",
    "classes = ('elaine','george','jerry','kramer')\n",
    "for i in range(num_classes):\n",
    "    fpr, tpr, thresholds = metrics.roc_curve(test_vals_roc[:,i],  \n",
    "                           preds[:,i])\n",
    "    ax[0].plot(fpr, tpr, lw=3, \n",
    "              label='{0} (area={1:0.2f})'.format(classes[i], \n",
    "                              metrics.auc(fpr, tpr))\n",
    "               )\n",
    "ax[0].plot([0,1], [0,1], color='navy', lw=3, linestyle='--')\n",
    "ax[0].set(xlim=[-0.05,1.0], ylim=[0.0,1.05], \n",
    "          xlabel='False Positive Rate', \n",
    "          ylabel=\"True Positive Rate (Recall)\", \n",
    "          title=\"Receiver operating characteristic\")\n",
    "ax[0].legend(loc=\"lower right\")\n",
    "ax[0].grid(True)\n",
    "\n",
    "## Plot precision-recall curve\n",
    "for i in range(num_classes):\n",
    "    precision, recall, thresholds = metrics.precision_recall_curve(\n",
    "                 test_vals_roc[:,i], preds[:,i])\n",
    "    ax[1].plot(recall, precision, lw=3, \n",
    "               label='{0} (area={1:0.2f})'.format(classes[i], \n",
    "                                  metrics.auc(recall, precision))\n",
    "              )\n",
    "ax[1].set(xlim=[0.0,1.05], ylim=[0.0,1.05], xlabel='Recall', \n",
    "          ylabel=\"Precision\", title=\"Precision-Recall curve\")\n",
    "ax[1].legend(loc=\"best\")\n",
    "ax[1].grid(True)\n",
    "plt.show()"
   ]
  },
  {
   "cell_type": "code",
   "execution_count": 186,
   "id": "10f3c335",
   "metadata": {},
   "outputs": [
    {
     "data": {
      "text/plain": [
       "(array([0.5, 1.5, 2.5, 3.5]),\n",
       " [Text(0, 0.5, 'elaine'),\n",
       "  Text(0, 1.5, 'george'),\n",
       "  Text(0, 2.5, 'jerry'),\n",
       "  Text(0, 3.5, 'kramer')])"
      ]
     },
     "execution_count": 186,
     "metadata": {},
     "output_type": "execute_result"
    },
    {
     "data": {
      "image/png": "[encoded data removed]",
      "text/plain": [
       "<Figure size 432x288 with 1 Axes>"
      ]
     },
     "metadata": {
      "needs_background": "light"
     },
     "output_type": "display_data"
    }
   ],
   "source": [
    "## Plot confusion matrix\n",
    "cm = metrics.confusion_matrix(val_label, pred_labels)\n",
    "fig, ax = plt.subplots()\n",
    "sns.heatmap(cm, annot=True, fmt='d', ax=ax, cmap=plt.cm.Blues, \n",
    "            cbar=False)\n",
    "ax.set(xlabel=\"Pred\", ylabel=\"True\", xticklabels=classes, \n",
    "       yticklabels=classes, title=\"Confusion matrix\")\n",
    "plt.yticks(rotation=0)"
   ]
  },
  {
   "cell_type": "code",
   "execution_count": 191,
   "id": "76643e5f",
   "metadata": {},
   "outputs": [
    {
     "name": "stdout",
     "output_type": "stream",
     "text": [
      "Auc: 0.92\n"
     ]
    }
   ],
   "source": [
    "## AUC\n",
    "auc = metrics.roc_auc_score(val_label, preds, \n",
    "                            multi_class=\"ovr\")\n",
    "print(\"Auc:\", round(auc,2))"
   ]
  }
 ],
 "metadata": {
  "kernelspec": {
   "display_name": "Python 3",
   "language": "python",
   "name": "python3"
  },
  "language_info": {
   "codemirror_mode": {
    "name": "ipython",
    "version": 3
   },
   "file_extension": ".py",
   "mimetype": "text/x-python",
   "name": "python",
   "nbconvert_exporter": "python",
   "pygments_lexer": "ipython3",
   "version": "3.8.8"
  }
 },
 "nbformat": 4,
 "nbformat_minor": 5
}
